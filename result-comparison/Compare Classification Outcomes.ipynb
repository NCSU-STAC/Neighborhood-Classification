{
 "cells": [
  {
   "cell_type": "markdown",
   "metadata": {},
   "source": [
    "## Compare the classification outcomes of images\n",
    "### Comparison between:\n",
    "#### 1. Pixel based vs CNN Multi-class\n",
    "#### 2. Pixel based vs CNN Hierarchical\n",
    "#### 3. Pixel based vs Pixel based hierarchical"
   ]
  },
  {
   "cell_type": "code",
   "execution_count": 3,
   "metadata": {
    "collapsed": true
   },
   "outputs": [],
   "source": [
    "from osgeo import gdal\n",
    "import ogr\n",
    "import numpy as np"
   ]
  },
  {
   "cell_type": "code",
   "execution_count": 4,
   "metadata": {
    "collapsed": true
   },
   "outputs": [],
   "source": [
    "index = 1\n",
    "pix_mlc_clf = 'xgboost'\n",
    "pix_mlc_clf_path = '../pixel-based/models/{}-L2-'\n",
    "pix_hie_clf = 'rf'\n"
   ]
  },
  {
   "cell_type": "code",
   "execution_count": 5,
   "metadata": {},
   "outputs": [],
   "source": [
    "# Read the data\n",
    "driver = gdal.GetDriverByName('GTiff')\n",
    "rasterFileName1 = \"/scratch/slums/bl-slums/result-comparison/PS_extract_415_{}.tif\".format(index)\n",
    "dataset1 = gdal.Open(rasterFileName1)\n",
    "rasterFileName2 = \"/scratch/slums/bl-slums/result-comparison/NDBI_extract_415_{}.tif\".format(index)\n",
    "dataset2 = gdal.Open(rasterFileName2)\n",
    "rasterFileName3 = \"/scratch/slums/bl-slums/result-comparison/PAN_har_415_{}.tif\".format(index)\n",
    "dataset3 = gdal.Open(rasterFileName3)\n",
    "rasterFileName4 = \"/scratch/slums/bl-slums/result-comparison/edge_density_extract_415_{}.tif\".format(index)\n",
    "dataset4 = gdal.Open(rasterFileName4)"
   ]
  },
  {
   "cell_type": "code",
   "execution_count": 6,
   "metadata": {},
   "outputs": [
    {
     "name": "stdout",
     "output_type": "stream",
     "text": [
      "775737.322382 1437296.7935 0.499284950117 0.499231422086\n"
     ]
    }
   ],
   "source": [
    "imggeotrans = dataset1.GetGeoTransform()\n",
    "\n",
    "\n",
    "bands1=[]\n",
    "bands2=[]\n",
    "bands3=[]\n",
    "bands4=[]\n",
    "data_all_bands = []\n",
    "cols = dataset1.RasterXSize\n",
    "rows = dataset1.RasterYSize\n",
    "\n",
    "transform = dataset1.GetGeoTransform()\n",
    "xOrigin = transform[0]\n",
    "yOrigin = transform[3]\n",
    "pixelWidth = transform[1]\n",
    "pixelHeight = -transform[5]\n",
    "\n",
    "print xOrigin, yOrigin, pixelWidth, pixelHeight\n",
    "\n",
    "for i in range(8):\n",
    "    bands1.append(dataset1.GetRasterBand(i+1)) \n",
    "    # data_all_bands.append(band.ReadAsArray(0,0,cols,rows).astype(np.float))\n",
    "bands2.append(dataset2.GetRasterBand(1)) \n",
    "for i in range(8):\n",
    "    bands3.append(dataset3.GetRasterBand(i+1)) \n",
    "bands4.append(dataset4.GetRasterBand(1)) "
   ]
  },
  {
   "cell_type": "code",
   "execution_count": null,
   "metadata": {
    "collapsed": true
   },
   "outputs": [],
   "source": []
  }
 ],
 "metadata": {
  "kernelspec": {
   "display_name": "Python 2",
   "language": "python",
   "name": "python2"
  },
  "language_info": {
   "codemirror_mode": {
    "name": "ipython",
    "version": 2
   },
   "file_extension": ".py",
   "mimetype": "text/x-python",
   "name": "python",
   "nbconvert_exporter": "python",
   "pygments_lexer": "ipython2",
   "version": "2.7.13"
  }
 },
 "nbformat": 4,
 "nbformat_minor": 2
}
